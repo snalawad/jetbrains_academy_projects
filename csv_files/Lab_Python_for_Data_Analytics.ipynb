{
 "cells": [
  {
   "cell_type": "code",
   "execution_count": 1,
   "metadata": {},
   "outputs": [
    {
     "name": "stdout",
     "output_type": "stream",
     "text": [
      "['False', 'None', 'True', 'and', 'as', 'assert', 'break', 'class', 'continue', 'def', 'del', 'elif', 'else', 'except', 'finally', 'for', 'from', 'global', 'if', 'import', 'in', 'is', 'lambda', 'nonlocal', 'not', 'or', 'pass', 'raise', 'return', 'try', 'while', 'with', 'yield']\n"
     ]
    }
   ],
   "source": [
    "#Different keywords in Python - Do not use as variables\n",
    "import keyword\n",
    "print(keyword.kwlist)"
   ]
  },
  {
   "cell_type": "code",
   "execution_count": 2,
   "metadata": {},
   "outputs": [
    {
     "data": {
      "text/plain": [
       "20"
      ]
     },
     "execution_count": 2,
     "metadata": {},
     "output_type": "execute_result"
    }
   ],
   "source": [
    "#Functions\n",
    "def fun1(a,b):\n",
    "    return a*b\n",
    "fun1(4,5)"
   ]
  },
  {
   "cell_type": "code",
   "execution_count": 3,
   "metadata": {},
   "outputs": [
    {
     "data": {
      "text/plain": [
       "20"
      ]
     },
     "execution_count": 3,
     "metadata": {},
     "output_type": "execute_result"
    }
   ],
   "source": [
    "#Lambda function\n",
    "x = lambda a,b:a*b\n",
    "x(4,5)"
   ]
  },
  {
   "cell_type": "code",
   "execution_count": 4,
   "metadata": {},
   "outputs": [
    {
     "name": "stdout",
     "output_type": "stream",
     "text": [
      "<class 'int'>\n",
      "<class 'float'>\n",
      "<class 'str'>\n",
      "<class 'bool'>\n"
     ]
    }
   ],
   "source": [
    "#Python data types\n",
    "x = 12\n",
    "print(type(x))\n",
    "y = 12.5\n",
    "print(type(y))\n",
    "z = \"Hello\"\n",
    "print(type(z))\n",
    "w = True\n",
    "print(type(w))"
   ]
  },
  {
   "cell_type": "code",
   "execution_count": 5,
   "metadata": {},
   "outputs": [
    {
     "name": "stdout",
     "output_type": "stream",
     "text": [
      "Hello\n",
      "Hello how's ur day?\n",
      "He said,'It's all good.'\n"
     ]
    }
   ],
   "source": [
    "#Strings\n",
    "st1 = \"Hello\"\n",
    "st2 = \"Hello how's ur day?\"\n",
    "st3 = \"He said,'It's all good.'\"\n",
    "print(st1)\n",
    "print(st2)\n",
    "print(st3)"
   ]
  },
  {
   "cell_type": "code",
   "execution_count": 6,
   "metadata": {},
   "outputs": [
    {
     "name": "stdout",
     "output_type": "stream",
     "text": [
      "5\n",
      "H\n",
      "o\n"
     ]
    }
   ],
   "source": [
    "#String indices and accessing string elements\n",
    "print(len(st1)) #Gives length of the characters in the string\n",
    "print(st1[0]) #Accessing the first element of the string by its index\n",
    "print(st1[-1]) #Negative indexing for accessing elements in reverse order"
   ]
  },
  {
   "cell_type": "code",
   "execution_count": 7,
   "metadata": {},
   "outputs": [
    {
     "ename": "TypeError",
     "evalue": "'str' object does not support item assignment",
     "output_type": "error",
     "traceback": [
      "\u001b[0;31m---------------------------------------------------------------------------\u001b[0m",
      "\u001b[0;31mTypeError\u001b[0m                                 Traceback (most recent call last)",
      "\u001b[0;32m<ipython-input-7-ce9370cdb18b>\u001b[0m in \u001b[0;36m<module>\u001b[0;34m\u001b[0m\n\u001b[1;32m      1\u001b[0m \u001b[0;31m#Strings are immutable\u001b[0m\u001b[0;34m\u001b[0m\u001b[0;34m\u001b[0m\u001b[0;34m\u001b[0m\u001b[0m\n\u001b[0;32m----> 2\u001b[0;31m \u001b[0mst1\u001b[0m\u001b[0;34m[\u001b[0m\u001b[0;36m0\u001b[0m\u001b[0;34m]\u001b[0m \u001b[0;34m=\u001b[0m \u001b[0;34m\"M\"\u001b[0m\u001b[0;34m\u001b[0m\u001b[0;34m\u001b[0m\u001b[0m\n\u001b[0m",
      "\u001b[0;31mTypeError\u001b[0m: 'str' object does not support item assignment"
     ]
    }
   ],
   "source": [
    "#Strings are immutable\n",
    "st1[0] = \"M\""
   ]
  },
  {
   "cell_type": "code",
   "execution_count": 8,
   "metadata": {},
   "outputs": [
    {
     "name": "stdout",
     "output_type": "stream",
     "text": [
      "Hello\n",
      "0\n",
      "False\n",
      "Mello\n",
      "['Hello', \"how's\", 'ur', 'day?']\n",
      "hELLO\n",
      "HELLO\n"
     ]
    }
   ],
   "source": [
    "#Methods associated with strings\n",
    "print(st1.capitalize()) #Capitalizes first character of the string\n",
    "print(st1.find('H')) #Finds the index of the character/slice\n",
    "print(st1.isupper()) #Checks whether the string is all caps\n",
    "print(st1.replace('H','M')) #replaces given word with one provided\n",
    "print(st2.split()) #splits the string into words\n",
    "print(st1.swapcase()) #swaps the case of all the letters\n",
    "print(st1.upper()) #Converts all letters to upper case"
   ]
  },
  {
   "cell_type": "code",
   "execution_count": 9,
   "metadata": {},
   "outputs": [
    {
     "name": "stdout",
     "output_type": "stream",
     "text": [
      "He said\n",
      "Hell\n",
      "Hello\n",
      "He\n"
     ]
    }
   ],
   "source": [
    "#String slicing\n",
    "print(st3[0:7])\n",
    "print(st1[-5:-1])\n",
    "print(st1[-5:])\n",
    "print(st1[-5:-3])"
   ]
  },
  {
   "cell_type": "code",
   "execution_count": 10,
   "metadata": {},
   "outputs": [
    {
     "data": {
      "text/plain": [
       "list"
      ]
     },
     "execution_count": 10,
     "metadata": {},
     "output_type": "execute_result"
    }
   ],
   "source": [
    "#Lists\n",
    "l = ['Hello',12.5,12,True]\n",
    "type(l)"
   ]
  },
  {
   "cell_type": "code",
   "execution_count": 11,
   "metadata": {},
   "outputs": [
    {
     "data": {
      "text/plain": [
       "12"
      ]
     },
     "execution_count": 11,
     "metadata": {},
     "output_type": "execute_result"
    }
   ],
   "source": [
    "#Access the element of a list by index\n",
    "l[2]"
   ]
  },
  {
   "cell_type": "code",
   "execution_count": 12,
   "metadata": {},
   "outputs": [
    {
     "data": {
      "text/plain": [
       "['Hello', 12.5, 13.5, True]"
      ]
     },
     "execution_count": 12,
     "metadata": {},
     "output_type": "execute_result"
    }
   ],
   "source": [
    "#Replace the element of a list that means its mutable\n",
    "l[2] = 13.5\n",
    "l"
   ]
  },
  {
   "cell_type": "code",
   "execution_count": 13,
   "metadata": {},
   "outputs": [
    {
     "data": {
      "text/plain": [
       "['Hello', 12.5, 13.5, True, 'HRU']"
      ]
     },
     "execution_count": 13,
     "metadata": {},
     "output_type": "execute_result"
    }
   ],
   "source": [
    "#Different list methods\n",
    "l.append(\"HRU\")\n",
    "l"
   ]
  },
  {
   "cell_type": "code",
   "execution_count": 14,
   "metadata": {},
   "outputs": [
    {
     "data": {
      "text/plain": [
       "['Hello', 12.5, 13.5, True, 'HRU', 'good', 'morning']"
      ]
     },
     "execution_count": 14,
     "metadata": {},
     "output_type": "execute_result"
    }
   ],
   "source": [
    "l.extend([\"good\",\"morning\"])\n",
    "l"
   ]
  },
  {
   "cell_type": "code",
   "execution_count": 15,
   "metadata": {},
   "outputs": [
    {
     "data": {
      "text/plain": [
       "['great', 'Hello', 12.5, 13.5, True, 'HRU', 'good', 'morning']"
      ]
     },
     "execution_count": 15,
     "metadata": {},
     "output_type": "execute_result"
    }
   ],
   "source": [
    "l.insert(0,\"great\")\n",
    "l"
   ]
  },
  {
   "cell_type": "code",
   "execution_count": 16,
   "metadata": {},
   "outputs": [
    {
     "data": {
      "text/plain": [
       "['great', 12.5, 13.5, True, 'HRU', 'good', 'morning']"
      ]
     },
     "execution_count": 16,
     "metadata": {},
     "output_type": "execute_result"
    }
   ],
   "source": [
    "l.remove('Hello')\n",
    "l"
   ]
  },
  {
   "cell_type": "code",
   "execution_count": 17,
   "metadata": {},
   "outputs": [
    {
     "data": {
      "text/plain": [
       "['morning', 'good', 'HRU', True, 13.5, 12.5, 'great']"
      ]
     },
     "execution_count": 17,
     "metadata": {},
     "output_type": "execute_result"
    }
   ],
   "source": [
    "l.reverse()\n",
    "l"
   ]
  },
  {
   "cell_type": "code",
   "execution_count": 18,
   "metadata": {},
   "outputs": [
    {
     "name": "stdout",
     "output_type": "stream",
     "text": [
      "Hello how's ur day?\n",
      "True\n",
      "False\n"
     ]
    }
   ],
   "source": [
    "#Membership operator ('in' and ‘not in’)\n",
    "print(st2)\n",
    "print('h' in st2)\n",
    "print('n' in st2)"
   ]
  },
  {
   "cell_type": "code",
   "execution_count": 19,
   "metadata": {},
   "outputs": [
    {
     "name": "stdout",
     "output_type": "stream",
     "text": [
      "range(0, 5)\n",
      "[0, 1, 2, 3, 4]\n",
      "[1, 3]\n"
     ]
    }
   ],
   "source": [
    "#Range function\n",
    "print(range(5))\n",
    "print(list(range(5)))\n",
    "print(list(range(1,5,2)))"
   ]
  },
  {
   "cell_type": "code",
   "execution_count": 20,
   "metadata": {},
   "outputs": [
    {
     "name": "stdout",
     "output_type": "stream",
     "text": [
      "filter(function or None, iterable) --> filter object\n",
      "\n",
      "Return an iterator yielding those items of iterable for which function(item)\n",
      "is true. If function is None, return the items that are true.\n"
     ]
    }
   ],
   "source": [
    "#filter function\n",
    "print(filter.__doc__)"
   ]
  },
  {
   "cell_type": "code",
   "execution_count": 21,
   "metadata": {},
   "outputs": [
    {
     "name": "stdout",
     "output_type": "stream",
     "text": [
      "[2, 4, 6, 8]\n"
     ]
    }
   ],
   "source": [
    "def f2(n):\n",
    "    if n%2 == 0:\n",
    "        return True\n",
    "fl = filter(f2,[2,3,4,5,6,7,8])\n",
    "print(list(fl))"
   ]
  },
  {
   "cell_type": "code",
   "execution_count": 22,
   "metadata": {},
   "outputs": [
    {
     "name": "stdout",
     "output_type": "stream",
     "text": [
      "[2, 3, 4, 5, 6, 7, 8]\n"
     ]
    }
   ],
   "source": [
    "#if function argument is None the filter will return True elements\n",
    "fl1 = filter(None,[0,2,3,4,5,6,7,8])\n",
    "print(list(fl1))"
   ]
  },
  {
   "cell_type": "code",
   "execution_count": 23,
   "metadata": {},
   "outputs": [],
   "source": [
    "def f3(n):\n",
    "    return len(n)"
   ]
  },
  {
   "cell_type": "code",
   "execution_count": 24,
   "metadata": {},
   "outputs": [
    {
     "name": "stdout",
     "output_type": "stream",
     "text": [
      "[5, 6]\n"
     ]
    }
   ],
   "source": [
    "#map function\n",
    "mp = map(f3,('sagar','shinde'))\n",
    "print(list(mp))"
   ]
  },
  {
   "cell_type": "code",
   "execution_count": 25,
   "metadata": {},
   "outputs": [
    {
     "data": {
      "text/plain": [
       "3"
      ]
     },
     "execution_count": 25,
     "metadata": {},
     "output_type": "execute_result"
    }
   ],
   "source": [
    "#Modules\n",
    "import m1\n",
    "m1.addition(1,2)"
   ]
  },
  {
   "cell_type": "code",
   "execution_count": 26,
   "metadata": {},
   "outputs": [
    {
     "data": {
      "text/plain": [
       "5"
      ]
     },
     "execution_count": 26,
     "metadata": {},
     "output_type": "execute_result"
    }
   ],
   "source": [
    "m1.val"
   ]
  },
  {
   "cell_type": "code",
   "execution_count": 27,
   "metadata": {},
   "outputs": [
    {
     "name": "stdout",
     "output_type": "stream",
     "text": [
      "5\n"
     ]
    }
   ],
   "source": [
    "#Local and global variables in Python\n",
    "x = 5\n",
    "def func1():\n",
    "    print(x)\n",
    "def func2():\n",
    "    x = 7\n",
    "    print(x)\n",
    "# func1()\n",
    "# func2()\n",
    "print(x)"
   ]
  },
  {
   "cell_type": "code",
   "execution_count": 28,
   "metadata": {},
   "outputs": [
    {
     "name": "stdout",
     "output_type": "stream",
     "text": [
      "5\n"
     ]
    }
   ],
   "source": [
    "#Defining a variable as global explicitly\n",
    "def func3():\n",
    "    global x\n",
    "    x = 9\n",
    "    print(x)\n",
    "# func3()\n",
    "print(x)"
   ]
  },
  {
   "cell_type": "code",
   "execution_count": 52,
   "metadata": {},
   "outputs": [
    {
     "name": "stdout",
     "output_type": "stream",
     "text": [
      "9\n",
      "1\n",
      "This is from Arith1\n",
      "20\n"
     ]
    }
   ],
   "source": [
    "#Classes and objects\n",
    "class Arith(object):\n",
    "    \"\"\"Class for arithmatics for two numbers\"\"\" \n",
    "    def __init__(self,num1,num2):\n",
    "        self.num1 = num1\n",
    "        self.num2 = num2\n",
    "        \n",
    "    def ad(self):\n",
    "        return self.num1 + self.num2\n",
    "    \n",
    "    def sub(self):\n",
    "        return self.num1 - self.num2\n",
    "    \n",
    "    def mult(self):\n",
    "        print(\"This is from Arith1\")\n",
    "        return self.num1 * self.num2\n",
    "    \n",
    "test = Arith(5,4)\n",
    "print(test.ad())\n",
    "print(test.sub())\n",
    "print(test.mult())"
   ]
  },
  {
   "cell_type": "code",
   "execution_count": 33,
   "metadata": {},
   "outputs": [
    {
     "data": {
      "text/plain": [
       "5"
      ]
     },
     "execution_count": 33,
     "metadata": {},
     "output_type": "execute_result"
    }
   ],
   "source": [
    "test.num1"
   ]
  },
  {
   "cell_type": "code",
   "execution_count": 34,
   "metadata": {},
   "outputs": [],
   "source": [
    "test.num1 = 6"
   ]
  },
  {
   "cell_type": "code",
   "execution_count": 35,
   "metadata": {},
   "outputs": [
    {
     "data": {
      "text/plain": [
       "6"
      ]
     },
     "execution_count": 35,
     "metadata": {},
     "output_type": "execute_result"
    }
   ],
   "source": [
    "test.num1"
   ]
  },
  {
   "cell_type": "code",
   "execution_count": 36,
   "metadata": {},
   "outputs": [
    {
     "data": {
      "text/plain": [
       "10"
      ]
     },
     "execution_count": 36,
     "metadata": {},
     "output_type": "execute_result"
    }
   ],
   "source": [
    "test.ad()"
   ]
  },
  {
   "cell_type": "code",
   "execution_count": 37,
   "metadata": {},
   "outputs": [
    {
     "data": {
      "text/plain": [
       "2"
      ]
     },
     "execution_count": 37,
     "metadata": {},
     "output_type": "execute_result"
    }
   ],
   "source": [
    "test.sub()"
   ]
  },
  {
   "cell_type": "code",
   "execution_count": 53,
   "metadata": {},
   "outputs": [
    {
     "name": "stdout",
     "output_type": "stream",
     "text": [
      "This is from Arith2\n"
     ]
    },
    {
     "data": {
      "text/plain": [
       "(25, 36)"
      ]
     },
     "execution_count": 53,
     "metadata": {},
     "output_type": "execute_result"
    }
   ],
   "source": [
    "#Class inheritence\n",
    "class Arith2(Arith):\n",
    "    \"\"\"Child class of arith class\"\"\"\n",
    "    \n",
    "    def __init__(self,num1,num2,sqr):\n",
    "        Arith.__init__(self,num1,num2)\n",
    "        self.sqr = sqr\n",
    "        \n",
    "    def mult(self):\n",
    "        print(\"This is from Arith2\")\n",
    "        return (self.num1**self.sqr,self.num2**self.sqr)\n",
    "    \n",
    "x = Arith2(5,6,2)\n",
    "\n",
    "x.mult()"
   ]
  },
  {
   "cell_type": "code",
   "execution_count": 58,
   "metadata": {},
   "outputs": [
    {
     "name": "stdout",
     "output_type": "stream",
     "text": [
      "This is from Arith4\n",
      "72004899337.38588 8886110.520507872\n",
      "None\n",
      "[<class '__main__.Arith4'>, <class '__main__.Arith2'>, <class '__main__.Arith3'>, <class '__main__.Arith'>, <class 'object'>]\n",
      "41\n",
      "9\n"
     ]
    }
   ],
   "source": [
    "#Multiple and multilevel inheritence\n",
    "\n",
    "import numpy as np\n",
    "\n",
    "class Arith3(Arith):\n",
    "    \"\"\"Child class of class Arith\"\"\"\n",
    "    \n",
    "    def __init__(self,num1,num2,root):\n",
    "        Arith.__init__(self,num1,num2)\n",
    "        self.root = root\n",
    "        \n",
    "    def mult(self):\n",
    "        print(\"This is from Arith3\")\n",
    "        return (self.num1**(1/self.root),self.num2**(1/self.root))\n",
    "    \n",
    "class Arith4(Arith2,Arith3):\n",
    "    \"\"\"child of Arith2 and Arith3 classes\"\"\"\n",
    "    \n",
    "    def __init__(self,num1,num2,sqr,root):\n",
    "        Arith2.__init__(self,num1,num2,sqr)\n",
    "        Arith3.__init__(self,num1,num2,root)\n",
    "        \n",
    "        \n",
    "    def mult(self):\n",
    "        \n",
    "        print(\"This is from Arith4\")\n",
    "        print(np.exp(self.num1),np.exp(self.num2))\n",
    "        \n",
    "    \n",
    "z = Arith4(25,16,2,2)\n",
    "print(z.mult())\n",
    "print(Arith4.mro())\n",
    "print(z.ad())\n",
    "print(z.sub())"
   ]
  }
 ],
 "metadata": {
  "kernelspec": {
   "display_name": "Python 3",
   "language": "python",
   "name": "python3"
  },
  "language_info": {
   "codemirror_mode": {
    "name": "ipython",
    "version": 3
   },
   "file_extension": ".py",
   "mimetype": "text/x-python",
   "name": "python",
   "nbconvert_exporter": "python",
   "pygments_lexer": "ipython3",
   "version": "3.8.5"
  }
 },
 "nbformat": 4,
 "nbformat_minor": 4
}
